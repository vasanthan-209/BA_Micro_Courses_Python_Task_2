{
 "cells": [
  {
   "cell_type": "markdown",
   "id": "3fafdcec-b795-4af0-81fe-5f076b548188",
   "metadata": {},
   "source": [
    "![aaron judge](judge_wide.jpg)"
   ]
  },
  {
   "cell_type": "markdown",
   "id": "3b0fb79c-7491-4215-9d51-057d569794ec",
   "metadata": {},
   "source": [
    "This is Aaron Judge. Judge is one of the physically largest players in Major League Baseball standing 6 feet 7 inches (2.01 m) tall and weighing 282 pounds (128 kg). He also hit one of the hardest home runs ever recorded. How do we know this? Statcast.\n",
    "\n",
    "Statcast is a state-of-the-art tracking system that uses high-resolution cameras and radar equipment to measure the precise location and movement of baseballs and baseball players. Introduced in 2015 to all 30 major league ballparks, Statcast data is revolutionizing the game. Teams are engaging in an \"arms race\" of data analysis, hiring analysts left and right in an attempt to gain an edge over their competition.\n",
    "\n",
    "In this project, you're going to wrangle, analyze, and visualize Statcast historical data to compare Mr. Judge and another (extremely large) teammate of his, Giancaro Stanton. They are similar in a lot of ways, one being that they hit a lot of home runs. Stanton and Judge led baseball in home runs in 2017, with 59 and 52, respectively. These are exceptional totals - the player in third \"only\" had 45 home runs.\n",
    "\n",
    "Stanton and Judge are also different in many ways. Let's find out how they compare!\n",
    "\n",
    "**The Data**\n",
    "\n",
    "There are two CSV files, `judge.csv` and `stanton.csv`, both of which contain Statcast data for 2015-2017. Each row represents one pitch thrown to a batter. \n",
    "\n",
    "**Custom Functions**\n",
    "\n",
    "Two functions have also been provided for you to visualize home rome zones\n",
    "- `assign_x_coord`: Assigns an x-coordinate to Statcast's strike zone numbers.\n",
    "- `assign_y_coord`: Assigns a y-coordinate to Statcast's strike zone numbers.\n",
    "\n",
    "![](zone.png)"
   ]
  },
  {
   "cell_type": "code",
   "execution_count": 3,
   "id": "5f251821-32e5-42e8-b01c-34a852508c40",
   "metadata": {
    "executionCancelledAt": null,
    "executionTime": 4134,
    "lastExecutedAt": 1733851731518,
    "lastExecutedByKernel": "9749f88d-36f9-4072-9ca3-5aeee3133d90",
    "lastScheduledRunId": null,
    "lastSuccessfullyExecutedCode": "# Run this cell to begin\n# Import the necessary packages\nimport pandas as pd\nimport matplotlib.pyplot as plt\nimport seaborn as sns\n%matplotlib inline\n\n# Load Aaron Judge's Statcast data\njudge = pd.read_csv('judge.csv')\n\n# Load Giancarlo Stanton's Statcast data\nstanton = pd.read_csv('stanton.csv')\n\n# Display all columns (pandas will collapse some columns if we don't set this option)\npd.set_option('display.max_columns', None)\n\n# Custom Functions\ndef assign_x_coord(row):\n    \"\"\"\n    Assigns an x-coordinate to Statcast's strike zone numbers. Zones 11, 12, 13,\n    and 14 are ignored for plotting simplicity.\n    \"\"\"\n    # Left third of strike zone\n    if row.zone in [1, 4, 7]:\n        return 1\n    # Middle third of strike zone\n    if row.zone in [2, 5, 8]:\n        return 2\n    # Right third of strike zone\n    if row.zone in [3, 6, 9]:\n        return 3\n    \ndef assign_y_coord(row):\n    \"\"\"\n    Assigns a y-coordinate to Statcast's strike zone numbers. Zones 11, 12, 13,\n    and 14 are ignored for plotting simplicity.\n    \"\"\"\n    # Upper third of strike zone\n    if row.zone in [1, 2, 3]:\n        return 3\n    # Middle third of strike zone\n    if row.zone in [4, 5, 6]:\n        return 2\n    # Lower third of strike zone\n    if row.zone in [7, 8, 9]:\n        return 1\n    \n# Display the last five rows of the Aaron Judge file\njudge.tail()",
    "outputsMetadata": {
     "0": {
      "height": 222,
      "type": "dataFrame"
     }
    }
   },
   "outputs": [
    {
     "data": {
      "application/com.datacamp.data-table.v2+json": {
       "table": {
        "data": {
         "at_bat_number": [
          36,
          14,
          14,
          14,
          14
         ],
         "away_team": [
          "TB",
          "TB",
          "TB",
          "TB",
          "TB"
         ],
         "ax": [
          -2.821,
          -1.972,
          -6.393,
          5.184,
          -9.36
         ],
         "ay": [
          23.634,
          24.694,
          21.952,
          21.328,
          26.782
         ],
         "az": [
          -30.22,
          -30.705,
          -32.121,
          -39.866,
          -13.446
         ],
         "babip_value": [
          null,
          0,
          null,
          null,
          null
         ],
         "balls": [
          0,
          1,
          0,
          0,
          0
         ],
         "batter": [
          592450,
          592450,
          592450,
          592450,
          592450
         ],
         "bb_type": [
          null,
          "fly_ball",
          null,
          null,
          null
         ],
         "break_angle_deprecated": [
          null,
          null,
          null,
          null,
          null
         ],
         "break_length_deprecated": [
          null,
          null,
          null,
          null,
          null
         ],
         "des": [
          null,
          "Aaron Judge homers (1) on a fly ball to center field.",
          null,
          null,
          null
         ],
         "description": [
          "ball",
          "hit_into_play_score",
          "ball",
          "foul",
          "called_strike"
         ],
         "effective_speed": [
          84.459,
          86.412,
          86.368,
          77.723,
          92.696
         ],
         "estimated_ba_using_speedangle": [
          0,
          0.98,
          0,
          0,
          0
         ],
         "estimated_woba_using_speedangle": [
          0,
          1.937,
          0,
          0,
          0
         ],
         "events": [
          null,
          "home_run",
          null,
          null,
          null
         ],
         "game_date": [
          "2016-08-13",
          "2016-08-13",
          "2016-08-13",
          "2016-08-13",
          "2016-08-13"
         ],
         "game_pk": [
          448611,
          448611,
          448611,
          448611,
          448611
         ],
         "game_type": [
          "R",
          "R",
          "R",
          "R",
          "R"
         ],
         "game_year": [
          2016,
          2016,
          2016,
          2016,
          2016
         ],
         "hc_x": [
          null,
          130.45,
          null,
          null,
          null
         ],
         "hc_y": [
          null,
          14.58,
          null,
          null,
          null
         ],
         "hit_distance_sc": [
          null,
          446,
          null,
          9,
          null
         ],
         "hit_location": [
          null,
          null,
          null,
          null,
          null
         ],
         "home_team": [
          "NYY",
          "NYY",
          "NYY",
          "NYY",
          "NYY"
         ],
         "index": [
          3431,
          3432,
          3433,
          3434,
          3435
         ],
         "inning": [
          5,
          2,
          2,
          2,
          2
         ],
         "inning_topbot": [
          "Bot",
          "Bot",
          "Bot",
          "Bot",
          "Bot"
         ],
         "iso_value": [
          null,
          3,
          null,
          null,
          null
         ],
         "launch_angle": [
          null,
          27.41,
          null,
          -24.973,
          null
         ],
         "launch_speed": [
          null,
          108.8,
          null,
          55.8,
          null
         ],
         "launch_speed_angle": [
          null,
          6,
          null,
          1,
          null
         ],
         "on_1b": [
          null,
          null,
          null,
          null,
          null
         ],
         "on_2b": [
          null,
          null,
          null,
          null,
          null
         ],
         "on_3b": [
          null,
          null,
          null,
          null,
          null
         ],
         "outs_when_up": [
          0,
          2,
          2,
          2,
          2
         ],
         "p_throws": [
          "R",
          "R",
          "R",
          "R",
          "R"
         ],
         "pfx_x": [
          -0.3791083333,
          -0.2956083333,
          -0.668575,
          0.3974416667,
          -0.82305
         ],
         "pfx_z": [
          0.3705666667,
          0.3204,
          0.1985666667,
          -0.6141333333,
          1.6233
         ],
         "pitch_number": [
          1,
          4,
          3,
          2,
          1
         ],
         "pitch_type": [
          "CH",
          "CH",
          "CH",
          "CU",
          "FF"
         ],
         "pitcher": [
          542882,
          542882,
          542882,
          542882,
          542882
         ],
         "plate_x": [
          0.739,
          -0.419,
          0.561,
          -0.803,
          -0.273
         ],
         "plate_z": [
          1.442,
          3.273,
          0.96,
          2.742,
          2.471
         ],
         "player_name": [
          "Aaron Judge",
          "Aaron Judge",
          "Aaron Judge",
          "Aaron Judge",
          "Aaron Judge"
         ],
         "pos1_person_id": [
          542882,
          542882,
          542882,
          542882,
          542882
         ],
         "pos2_person_id": [
          571912,
          571912,
          571912,
          571912,
          571912
         ],
         "pos2_person_id.1": [
          571912,
          571912,
          571912,
          571912,
          571912
         ],
         "pos3_person_id": [
          543543,
          543543,
          543543,
          543543,
          543543
         ],
         "pos4_person_id": [
          523253,
          523253,
          523253,
          523253,
          523253
         ],
         "pos5_person_id": [
          446334,
          446334,
          446334,
          446334,
          446334
         ],
         "pos6_person_id": [
          622110,
          622110,
          622110,
          622110,
          622110
         ],
         "pos7_person_id": [
          545338,
          545338,
          545338,
          545338,
          545338
         ],
         "pos8_person_id": [
          595281,
          595281,
          595281,
          595281,
          595281
         ],
         "pos9_person_id": [
          543484,
          543484,
          543484,
          543484,
          543484
         ],
         "release_extension": [
          5.683,
          5.691,
          5.721,
          5.022,
          6.068
         ],
         "release_pos_x": [
          -1.9659,
          -1.9318,
          -2.0285,
          -1.7108,
          -1.8476
         ],
         "release_pos_y": [
          54.8144,
          54.8064,
          54.777,
          55.4756,
          54.4299
         ],
         "release_pos_z": [
          5.9113,
          5.9349,
          5.8656,
          6.1926,
          6.0063
         ],
         "release_speed": [
          85.6,
          87.6,
          87.2,
          79.7,
          93.2
         ],
         "release_spin_rate": [
          1552,
          1947,
          1761,
          2640,
          2271
         ],
         "spin_dir": [
          null,
          null,
          null,
          null,
          null
         ],
         "spin_rate_deprecated": [
          null,
          null,
          null,
          null,
          null
         ],
         "stand": [
          "R",
          "R",
          "R",
          "R",
          "R"
         ],
         "strikes": [
          0,
          2,
          2,
          1,
          0
         ],
         "sv_id": [
          "160813_144259",
          "160813_135833",
          "160813_135815",
          "160813_135752",
          "160813_135736"
         ],
         "sz_bot": [
          1.82,
          1.82,
          1.82,
          1.82,
          1.82
         ],
         "sz_top": [
          3.93,
          4.01,
          4.01,
          4.01,
          4.01
         ],
         "tfs_deprecated": [
          null,
          null,
          null,
          null,
          null
         ],
         "tfs_zulu_deprecated": [
          null,
          null,
          null,
          null,
          null
         ],
         "type": [
          "B",
          "X",
          "B",
          "S",
          "S"
         ],
         "umpire": [
          null,
          null,
          null,
          null,
          null
         ],
         "vx0": [
          6.96,
          4.287,
          7.491,
          1.254,
          5.994
         ],
         "vy0": [
          -124.371,
          -127.452,
          -126.665,
          -116.062,
          -135.497
         ],
         "vz0": [
          -4.756,
          -0.882,
          -5.862,
          0.439,
          -6.736
         ],
         "woba_denom": [
          null,
          1,
          null,
          null,
          null
         ],
         "woba_value": [
          null,
          2,
          null,
          null,
          null
         ],
         "zone": [
          14,
          4,
          14,
          4,
          8
         ]
        },
        "schema": {
         "fields": [
          {
           "name": "index",
           "type": "integer"
          },
          {
           "name": "pitch_type",
           "type": "string"
          },
          {
           "name": "game_date",
           "type": "string"
          },
          {
           "name": "release_speed",
           "type": "number"
          },
          {
           "name": "release_pos_x",
           "type": "number"
          },
          {
           "name": "release_pos_z",
           "type": "number"
          },
          {
           "name": "player_name",
           "type": "string"
          },
          {
           "name": "batter",
           "type": "integer"
          },
          {
           "name": "pitcher",
           "type": "integer"
          },
          {
           "name": "events",
           "type": "string"
          },
          {
           "name": "description",
           "type": "string"
          },
          {
           "name": "spin_dir",
           "type": "number"
          },
          {
           "name": "spin_rate_deprecated",
           "type": "number"
          },
          {
           "name": "break_angle_deprecated",
           "type": "number"
          },
          {
           "name": "break_length_deprecated",
           "type": "number"
          },
          {
           "name": "zone",
           "type": "number"
          },
          {
           "name": "des",
           "type": "string"
          },
          {
           "name": "game_type",
           "type": "string"
          },
          {
           "name": "stand",
           "type": "string"
          },
          {
           "name": "p_throws",
           "type": "string"
          },
          {
           "name": "home_team",
           "type": "string"
          },
          {
           "name": "away_team",
           "type": "string"
          },
          {
           "name": "type",
           "type": "string"
          },
          {
           "name": "hit_location",
           "type": "number"
          },
          {
           "name": "bb_type",
           "type": "string"
          },
          {
           "name": "balls",
           "type": "integer"
          },
          {
           "name": "strikes",
           "type": "integer"
          },
          {
           "name": "game_year",
           "type": "integer"
          },
          {
           "name": "pfx_x",
           "type": "number"
          },
          {
           "name": "pfx_z",
           "type": "number"
          },
          {
           "name": "plate_x",
           "type": "number"
          },
          {
           "name": "plate_z",
           "type": "number"
          },
          {
           "name": "on_3b",
           "type": "number"
          },
          {
           "name": "on_2b",
           "type": "number"
          },
          {
           "name": "on_1b",
           "type": "number"
          },
          {
           "name": "outs_when_up",
           "type": "integer"
          },
          {
           "name": "inning",
           "type": "integer"
          },
          {
           "name": "inning_topbot",
           "type": "string"
          },
          {
           "name": "hc_x",
           "type": "number"
          },
          {
           "name": "hc_y",
           "type": "number"
          },
          {
           "name": "tfs_deprecated",
           "type": "number"
          },
          {
           "name": "tfs_zulu_deprecated",
           "type": "number"
          },
          {
           "name": "pos2_person_id",
           "type": "number"
          },
          {
           "name": "umpire",
           "type": "number"
          },
          {
           "name": "sv_id",
           "type": "string"
          },
          {
           "name": "vx0",
           "type": "number"
          },
          {
           "name": "vy0",
           "type": "number"
          },
          {
           "name": "vz0",
           "type": "number"
          },
          {
           "name": "ax",
           "type": "number"
          },
          {
           "name": "ay",
           "type": "number"
          },
          {
           "name": "az",
           "type": "number"
          },
          {
           "name": "sz_top",
           "type": "number"
          },
          {
           "name": "sz_bot",
           "type": "number"
          },
          {
           "name": "hit_distance_sc",
           "type": "number"
          },
          {
           "name": "launch_speed",
           "type": "number"
          },
          {
           "name": "launch_angle",
           "type": "number"
          },
          {
           "name": "effective_speed",
           "type": "number"
          },
          {
           "name": "release_spin_rate",
           "type": "number"
          },
          {
           "name": "release_extension",
           "type": "number"
          },
          {
           "name": "game_pk",
           "type": "integer"
          },
          {
           "name": "pos1_person_id",
           "type": "number"
          },
          {
           "name": "pos2_person_id.1",
           "type": "number"
          },
          {
           "name": "pos3_person_id",
           "type": "number"
          },
          {
           "name": "pos4_person_id",
           "type": "number"
          },
          {
           "name": "pos5_person_id",
           "type": "number"
          },
          {
           "name": "pos6_person_id",
           "type": "number"
          },
          {
           "name": "pos7_person_id",
           "type": "number"
          },
          {
           "name": "pos8_person_id",
           "type": "number"
          },
          {
           "name": "pos9_person_id",
           "type": "number"
          },
          {
           "name": "release_pos_y",
           "type": "number"
          },
          {
           "name": "estimated_ba_using_speedangle",
           "type": "number"
          },
          {
           "name": "estimated_woba_using_speedangle",
           "type": "number"
          },
          {
           "name": "woba_value",
           "type": "number"
          },
          {
           "name": "woba_denom",
           "type": "number"
          },
          {
           "name": "babip_value",
           "type": "number"
          },
          {
           "name": "iso_value",
           "type": "number"
          },
          {
           "name": "launch_speed_angle",
           "type": "number"
          },
          {
           "name": "at_bat_number",
           "type": "integer"
          },
          {
           "name": "pitch_number",
           "type": "integer"
          }
         ],
         "pandas_version": "1.4.0",
         "primaryKey": [
          "index"
         ]
        }
       },
       "total_rows": 5,
       "truncation_type": null
      },
      "text/html": [
       "<div>\n",
       "<style scoped>\n",
       "    .dataframe tbody tr th:only-of-type {\n",
       "        vertical-align: middle;\n",
       "    }\n",
       "\n",
       "    .dataframe tbody tr th {\n",
       "        vertical-align: top;\n",
       "    }\n",
       "\n",
       "    .dataframe thead th {\n",
       "        text-align: right;\n",
       "    }\n",
       "</style>\n",
       "<table border=\"1\" class=\"dataframe\">\n",
       "  <thead>\n",
       "    <tr style=\"text-align: right;\">\n",
       "      <th></th>\n",
       "      <th>pitch_type</th>\n",
       "      <th>game_date</th>\n",
       "      <th>release_speed</th>\n",
       "      <th>release_pos_x</th>\n",
       "      <th>release_pos_z</th>\n",
       "      <th>player_name</th>\n",
       "      <th>batter</th>\n",
       "      <th>pitcher</th>\n",
       "      <th>events</th>\n",
       "      <th>description</th>\n",
       "      <th>spin_dir</th>\n",
       "      <th>spin_rate_deprecated</th>\n",
       "      <th>break_angle_deprecated</th>\n",
       "      <th>break_length_deprecated</th>\n",
       "      <th>zone</th>\n",
       "      <th>des</th>\n",
       "      <th>game_type</th>\n",
       "      <th>stand</th>\n",
       "      <th>p_throws</th>\n",
       "      <th>home_team</th>\n",
       "      <th>away_team</th>\n",
       "      <th>type</th>\n",
       "      <th>hit_location</th>\n",
       "      <th>bb_type</th>\n",
       "      <th>balls</th>\n",
       "      <th>strikes</th>\n",
       "      <th>game_year</th>\n",
       "      <th>pfx_x</th>\n",
       "      <th>pfx_z</th>\n",
       "      <th>plate_x</th>\n",
       "      <th>plate_z</th>\n",
       "      <th>on_3b</th>\n",
       "      <th>on_2b</th>\n",
       "      <th>on_1b</th>\n",
       "      <th>outs_when_up</th>\n",
       "      <th>inning</th>\n",
       "      <th>inning_topbot</th>\n",
       "      <th>hc_x</th>\n",
       "      <th>hc_y</th>\n",
       "      <th>tfs_deprecated</th>\n",
       "      <th>tfs_zulu_deprecated</th>\n",
       "      <th>pos2_person_id</th>\n",
       "      <th>umpire</th>\n",
       "      <th>sv_id</th>\n",
       "      <th>vx0</th>\n",
       "      <th>vy0</th>\n",
       "      <th>vz0</th>\n",
       "      <th>ax</th>\n",
       "      <th>ay</th>\n",
       "      <th>az</th>\n",
       "      <th>sz_top</th>\n",
       "      <th>sz_bot</th>\n",
       "      <th>hit_distance_sc</th>\n",
       "      <th>launch_speed</th>\n",
       "      <th>launch_angle</th>\n",
       "      <th>effective_speed</th>\n",
       "      <th>release_spin_rate</th>\n",
       "      <th>release_extension</th>\n",
       "      <th>game_pk</th>\n",
       "      <th>pos1_person_id</th>\n",
       "      <th>pos2_person_id.1</th>\n",
       "      <th>pos3_person_id</th>\n",
       "      <th>pos4_person_id</th>\n",
       "      <th>pos5_person_id</th>\n",
       "      <th>pos6_person_id</th>\n",
       "      <th>pos7_person_id</th>\n",
       "      <th>pos8_person_id</th>\n",
       "      <th>pos9_person_id</th>\n",
       "      <th>release_pos_y</th>\n",
       "      <th>estimated_ba_using_speedangle</th>\n",
       "      <th>estimated_woba_using_speedangle</th>\n",
       "      <th>woba_value</th>\n",
       "      <th>woba_denom</th>\n",
       "      <th>babip_value</th>\n",
       "      <th>iso_value</th>\n",
       "      <th>launch_speed_angle</th>\n",
       "      <th>at_bat_number</th>\n",
       "      <th>pitch_number</th>\n",
       "    </tr>\n",
       "  </thead>\n",
       "  <tbody>\n",
       "    <tr>\n",
       "      <th>3431</th>\n",
       "      <td>CH</td>\n",
       "      <td>2016-08-13</td>\n",
       "      <td>85.6</td>\n",
       "      <td>-1.9659</td>\n",
       "      <td>5.9113</td>\n",
       "      <td>Aaron Judge</td>\n",
       "      <td>592450</td>\n",
       "      <td>542882</td>\n",
       "      <td>NaN</td>\n",
       "      <td>ball</td>\n",
       "      <td>NaN</td>\n",
       "      <td>NaN</td>\n",
       "      <td>NaN</td>\n",
       "      <td>NaN</td>\n",
       "      <td>14.0</td>\n",
       "      <td>NaN</td>\n",
       "      <td>R</td>\n",
       "      <td>R</td>\n",
       "      <td>R</td>\n",
       "      <td>NYY</td>\n",
       "      <td>TB</td>\n",
       "      <td>B</td>\n",
       "      <td>NaN</td>\n",
       "      <td>NaN</td>\n",
       "      <td>0</td>\n",
       "      <td>0</td>\n",
       "      <td>2016</td>\n",
       "      <td>-0.379108</td>\n",
       "      <td>0.370567</td>\n",
       "      <td>0.739</td>\n",
       "      <td>1.442</td>\n",
       "      <td>NaN</td>\n",
       "      <td>NaN</td>\n",
       "      <td>NaN</td>\n",
       "      <td>0</td>\n",
       "      <td>5</td>\n",
       "      <td>Bot</td>\n",
       "      <td>NaN</td>\n",
       "      <td>NaN</td>\n",
       "      <td>NaN</td>\n",
       "      <td>NaN</td>\n",
       "      <td>571912.0</td>\n",
       "      <td>NaN</td>\n",
       "      <td>160813_144259</td>\n",
       "      <td>6.960</td>\n",
       "      <td>-124.371</td>\n",
       "      <td>-4.756</td>\n",
       "      <td>-2.821</td>\n",
       "      <td>23.634</td>\n",
       "      <td>-30.220</td>\n",
       "      <td>3.93</td>\n",
       "      <td>1.82</td>\n",
       "      <td>NaN</td>\n",
       "      <td>NaN</td>\n",
       "      <td>NaN</td>\n",
       "      <td>84.459</td>\n",
       "      <td>1552.0</td>\n",
       "      <td>5.683</td>\n",
       "      <td>448611</td>\n",
       "      <td>542882.0</td>\n",
       "      <td>571912.0</td>\n",
       "      <td>543543.0</td>\n",
       "      <td>523253.0</td>\n",
       "      <td>446334.0</td>\n",
       "      <td>622110.0</td>\n",
       "      <td>545338.0</td>\n",
       "      <td>595281.0</td>\n",
       "      <td>543484.0</td>\n",
       "      <td>54.8144</td>\n",
       "      <td>0.00</td>\n",
       "      <td>0.000</td>\n",
       "      <td>NaN</td>\n",
       "      <td>NaN</td>\n",
       "      <td>NaN</td>\n",
       "      <td>NaN</td>\n",
       "      <td>NaN</td>\n",
       "      <td>36</td>\n",
       "      <td>1</td>\n",
       "    </tr>\n",
       "    <tr>\n",
       "      <th>3432</th>\n",
       "      <td>CH</td>\n",
       "      <td>2016-08-13</td>\n",
       "      <td>87.6</td>\n",
       "      <td>-1.9318</td>\n",
       "      <td>5.9349</td>\n",
       "      <td>Aaron Judge</td>\n",
       "      <td>592450</td>\n",
       "      <td>542882</td>\n",
       "      <td>home_run</td>\n",
       "      <td>hit_into_play_score</td>\n",
       "      <td>NaN</td>\n",
       "      <td>NaN</td>\n",
       "      <td>NaN</td>\n",
       "      <td>NaN</td>\n",
       "      <td>4.0</td>\n",
       "      <td>Aaron Judge homers (1) on a fly ball to center...</td>\n",
       "      <td>R</td>\n",
       "      <td>R</td>\n",
       "      <td>R</td>\n",
       "      <td>NYY</td>\n",
       "      <td>TB</td>\n",
       "      <td>X</td>\n",
       "      <td>NaN</td>\n",
       "      <td>fly_ball</td>\n",
       "      <td>1</td>\n",
       "      <td>2</td>\n",
       "      <td>2016</td>\n",
       "      <td>-0.295608</td>\n",
       "      <td>0.320400</td>\n",
       "      <td>-0.419</td>\n",
       "      <td>3.273</td>\n",
       "      <td>NaN</td>\n",
       "      <td>NaN</td>\n",
       "      <td>NaN</td>\n",
       "      <td>2</td>\n",
       "      <td>2</td>\n",
       "      <td>Bot</td>\n",
       "      <td>130.45</td>\n",
       "      <td>14.58</td>\n",
       "      <td>NaN</td>\n",
       "      <td>NaN</td>\n",
       "      <td>571912.0</td>\n",
       "      <td>NaN</td>\n",
       "      <td>160813_135833</td>\n",
       "      <td>4.287</td>\n",
       "      <td>-127.452</td>\n",
       "      <td>-0.882</td>\n",
       "      <td>-1.972</td>\n",
       "      <td>24.694</td>\n",
       "      <td>-30.705</td>\n",
       "      <td>4.01</td>\n",
       "      <td>1.82</td>\n",
       "      <td>446.0</td>\n",
       "      <td>108.8</td>\n",
       "      <td>27.410</td>\n",
       "      <td>86.412</td>\n",
       "      <td>1947.0</td>\n",
       "      <td>5.691</td>\n",
       "      <td>448611</td>\n",
       "      <td>542882.0</td>\n",
       "      <td>571912.0</td>\n",
       "      <td>543543.0</td>\n",
       "      <td>523253.0</td>\n",
       "      <td>446334.0</td>\n",
       "      <td>622110.0</td>\n",
       "      <td>545338.0</td>\n",
       "      <td>595281.0</td>\n",
       "      <td>543484.0</td>\n",
       "      <td>54.8064</td>\n",
       "      <td>0.98</td>\n",
       "      <td>1.937</td>\n",
       "      <td>2.0</td>\n",
       "      <td>1.0</td>\n",
       "      <td>0.0</td>\n",
       "      <td>3.0</td>\n",
       "      <td>6.0</td>\n",
       "      <td>14</td>\n",
       "      <td>4</td>\n",
       "    </tr>\n",
       "    <tr>\n",
       "      <th>3433</th>\n",
       "      <td>CH</td>\n",
       "      <td>2016-08-13</td>\n",
       "      <td>87.2</td>\n",
       "      <td>-2.0285</td>\n",
       "      <td>5.8656</td>\n",
       "      <td>Aaron Judge</td>\n",
       "      <td>592450</td>\n",
       "      <td>542882</td>\n",
       "      <td>NaN</td>\n",
       "      <td>ball</td>\n",
       "      <td>NaN</td>\n",
       "      <td>NaN</td>\n",
       "      <td>NaN</td>\n",
       "      <td>NaN</td>\n",
       "      <td>14.0</td>\n",
       "      <td>NaN</td>\n",
       "      <td>R</td>\n",
       "      <td>R</td>\n",
       "      <td>R</td>\n",
       "      <td>NYY</td>\n",
       "      <td>TB</td>\n",
       "      <td>B</td>\n",
       "      <td>NaN</td>\n",
       "      <td>NaN</td>\n",
       "      <td>0</td>\n",
       "      <td>2</td>\n",
       "      <td>2016</td>\n",
       "      <td>-0.668575</td>\n",
       "      <td>0.198567</td>\n",
       "      <td>0.561</td>\n",
       "      <td>0.960</td>\n",
       "      <td>NaN</td>\n",
       "      <td>NaN</td>\n",
       "      <td>NaN</td>\n",
       "      <td>2</td>\n",
       "      <td>2</td>\n",
       "      <td>Bot</td>\n",
       "      <td>NaN</td>\n",
       "      <td>NaN</td>\n",
       "      <td>NaN</td>\n",
       "      <td>NaN</td>\n",
       "      <td>571912.0</td>\n",
       "      <td>NaN</td>\n",
       "      <td>160813_135815</td>\n",
       "      <td>7.491</td>\n",
       "      <td>-126.665</td>\n",
       "      <td>-5.862</td>\n",
       "      <td>-6.393</td>\n",
       "      <td>21.952</td>\n",
       "      <td>-32.121</td>\n",
       "      <td>4.01</td>\n",
       "      <td>1.82</td>\n",
       "      <td>NaN</td>\n",
       "      <td>NaN</td>\n",
       "      <td>NaN</td>\n",
       "      <td>86.368</td>\n",
       "      <td>1761.0</td>\n",
       "      <td>5.721</td>\n",
       "      <td>448611</td>\n",
       "      <td>542882.0</td>\n",
       "      <td>571912.0</td>\n",
       "      <td>543543.0</td>\n",
       "      <td>523253.0</td>\n",
       "      <td>446334.0</td>\n",
       "      <td>622110.0</td>\n",
       "      <td>545338.0</td>\n",
       "      <td>595281.0</td>\n",
       "      <td>543484.0</td>\n",
       "      <td>54.7770</td>\n",
       "      <td>0.00</td>\n",
       "      <td>0.000</td>\n",
       "      <td>NaN</td>\n",
       "      <td>NaN</td>\n",
       "      <td>NaN</td>\n",
       "      <td>NaN</td>\n",
       "      <td>NaN</td>\n",
       "      <td>14</td>\n",
       "      <td>3</td>\n",
       "    </tr>\n",
       "    <tr>\n",
       "      <th>3434</th>\n",
       "      <td>CU</td>\n",
       "      <td>2016-08-13</td>\n",
       "      <td>79.7</td>\n",
       "      <td>-1.7108</td>\n",
       "      <td>6.1926</td>\n",
       "      <td>Aaron Judge</td>\n",
       "      <td>592450</td>\n",
       "      <td>542882</td>\n",
       "      <td>NaN</td>\n",
       "      <td>foul</td>\n",
       "      <td>NaN</td>\n",
       "      <td>NaN</td>\n",
       "      <td>NaN</td>\n",
       "      <td>NaN</td>\n",
       "      <td>4.0</td>\n",
       "      <td>NaN</td>\n",
       "      <td>R</td>\n",
       "      <td>R</td>\n",
       "      <td>R</td>\n",
       "      <td>NYY</td>\n",
       "      <td>TB</td>\n",
       "      <td>S</td>\n",
       "      <td>NaN</td>\n",
       "      <td>NaN</td>\n",
       "      <td>0</td>\n",
       "      <td>1</td>\n",
       "      <td>2016</td>\n",
       "      <td>0.397442</td>\n",
       "      <td>-0.614133</td>\n",
       "      <td>-0.803</td>\n",
       "      <td>2.742</td>\n",
       "      <td>NaN</td>\n",
       "      <td>NaN</td>\n",
       "      <td>NaN</td>\n",
       "      <td>2</td>\n",
       "      <td>2</td>\n",
       "      <td>Bot</td>\n",
       "      <td>NaN</td>\n",
       "      <td>NaN</td>\n",
       "      <td>NaN</td>\n",
       "      <td>NaN</td>\n",
       "      <td>571912.0</td>\n",
       "      <td>NaN</td>\n",
       "      <td>160813_135752</td>\n",
       "      <td>1.254</td>\n",
       "      <td>-116.062</td>\n",
       "      <td>0.439</td>\n",
       "      <td>5.184</td>\n",
       "      <td>21.328</td>\n",
       "      <td>-39.866</td>\n",
       "      <td>4.01</td>\n",
       "      <td>1.82</td>\n",
       "      <td>9.0</td>\n",
       "      <td>55.8</td>\n",
       "      <td>-24.973</td>\n",
       "      <td>77.723</td>\n",
       "      <td>2640.0</td>\n",
       "      <td>5.022</td>\n",
       "      <td>448611</td>\n",
       "      <td>542882.0</td>\n",
       "      <td>571912.0</td>\n",
       "      <td>543543.0</td>\n",
       "      <td>523253.0</td>\n",
       "      <td>446334.0</td>\n",
       "      <td>622110.0</td>\n",
       "      <td>545338.0</td>\n",
       "      <td>595281.0</td>\n",
       "      <td>543484.0</td>\n",
       "      <td>55.4756</td>\n",
       "      <td>0.00</td>\n",
       "      <td>0.000</td>\n",
       "      <td>NaN</td>\n",
       "      <td>NaN</td>\n",
       "      <td>NaN</td>\n",
       "      <td>NaN</td>\n",
       "      <td>1.0</td>\n",
       "      <td>14</td>\n",
       "      <td>2</td>\n",
       "    </tr>\n",
       "    <tr>\n",
       "      <th>3435</th>\n",
       "      <td>FF</td>\n",
       "      <td>2016-08-13</td>\n",
       "      <td>93.2</td>\n",
       "      <td>-1.8476</td>\n",
       "      <td>6.0063</td>\n",
       "      <td>Aaron Judge</td>\n",
       "      <td>592450</td>\n",
       "      <td>542882</td>\n",
       "      <td>NaN</td>\n",
       "      <td>called_strike</td>\n",
       "      <td>NaN</td>\n",
       "      <td>NaN</td>\n",
       "      <td>NaN</td>\n",
       "      <td>NaN</td>\n",
       "      <td>8.0</td>\n",
       "      <td>NaN</td>\n",
       "      <td>R</td>\n",
       "      <td>R</td>\n",
       "      <td>R</td>\n",
       "      <td>NYY</td>\n",
       "      <td>TB</td>\n",
       "      <td>S</td>\n",
       "      <td>NaN</td>\n",
       "      <td>NaN</td>\n",
       "      <td>0</td>\n",
       "      <td>0</td>\n",
       "      <td>2016</td>\n",
       "      <td>-0.823050</td>\n",
       "      <td>1.623300</td>\n",
       "      <td>-0.273</td>\n",
       "      <td>2.471</td>\n",
       "      <td>NaN</td>\n",
       "      <td>NaN</td>\n",
       "      <td>NaN</td>\n",
       "      <td>2</td>\n",
       "      <td>2</td>\n",
       "      <td>Bot</td>\n",
       "      <td>NaN</td>\n",
       "      <td>NaN</td>\n",
       "      <td>NaN</td>\n",
       "      <td>NaN</td>\n",
       "      <td>571912.0</td>\n",
       "      <td>NaN</td>\n",
       "      <td>160813_135736</td>\n",
       "      <td>5.994</td>\n",
       "      <td>-135.497</td>\n",
       "      <td>-6.736</td>\n",
       "      <td>-9.360</td>\n",
       "      <td>26.782</td>\n",
       "      <td>-13.446</td>\n",
       "      <td>4.01</td>\n",
       "      <td>1.82</td>\n",
       "      <td>NaN</td>\n",
       "      <td>NaN</td>\n",
       "      <td>NaN</td>\n",
       "      <td>92.696</td>\n",
       "      <td>2271.0</td>\n",
       "      <td>6.068</td>\n",
       "      <td>448611</td>\n",
       "      <td>542882.0</td>\n",
       "      <td>571912.0</td>\n",
       "      <td>543543.0</td>\n",
       "      <td>523253.0</td>\n",
       "      <td>446334.0</td>\n",
       "      <td>622110.0</td>\n",
       "      <td>545338.0</td>\n",
       "      <td>595281.0</td>\n",
       "      <td>543484.0</td>\n",
       "      <td>54.4299</td>\n",
       "      <td>0.00</td>\n",
       "      <td>0.000</td>\n",
       "      <td>NaN</td>\n",
       "      <td>NaN</td>\n",
       "      <td>NaN</td>\n",
       "      <td>NaN</td>\n",
       "      <td>NaN</td>\n",
       "      <td>14</td>\n",
       "      <td>1</td>\n",
       "    </tr>\n",
       "  </tbody>\n",
       "</table>\n",
       "</div>"
      ],
      "text/plain": [
       "     pitch_type   game_date  release_speed  release_pos_x  release_pos_z  \\\n",
       "3431         CH  2016-08-13           85.6        -1.9659         5.9113   \n",
       "3432         CH  2016-08-13           87.6        -1.9318         5.9349   \n",
       "3433         CH  2016-08-13           87.2        -2.0285         5.8656   \n",
       "3434         CU  2016-08-13           79.7        -1.7108         6.1926   \n",
       "3435         FF  2016-08-13           93.2        -1.8476         6.0063   \n",
       "\n",
       "      player_name  batter  pitcher    events          description  spin_dir  \\\n",
       "3431  Aaron Judge  592450   542882       NaN                 ball       NaN   \n",
       "3432  Aaron Judge  592450   542882  home_run  hit_into_play_score       NaN   \n",
       "3433  Aaron Judge  592450   542882       NaN                 ball       NaN   \n",
       "3434  Aaron Judge  592450   542882       NaN                 foul       NaN   \n",
       "3435  Aaron Judge  592450   542882       NaN        called_strike       NaN   \n",
       "\n",
       "      spin_rate_deprecated  break_angle_deprecated  break_length_deprecated  \\\n",
       "3431                   NaN                     NaN                      NaN   \n",
       "3432                   NaN                     NaN                      NaN   \n",
       "3433                   NaN                     NaN                      NaN   \n",
       "3434                   NaN                     NaN                      NaN   \n",
       "3435                   NaN                     NaN                      NaN   \n",
       "\n",
       "      zone                                                des game_type stand  \\\n",
       "3431  14.0                                                NaN         R     R   \n",
       "3432   4.0  Aaron Judge homers (1) on a fly ball to center...         R     R   \n",
       "3433  14.0                                                NaN         R     R   \n",
       "3434   4.0                                                NaN         R     R   \n",
       "3435   8.0                                                NaN         R     R   \n",
       "\n",
       "     p_throws home_team away_team type  hit_location   bb_type  balls  \\\n",
       "3431        R       NYY        TB    B           NaN       NaN      0   \n",
       "3432        R       NYY        TB    X           NaN  fly_ball      1   \n",
       "3433        R       NYY        TB    B           NaN       NaN      0   \n",
       "3434        R       NYY        TB    S           NaN       NaN      0   \n",
       "3435        R       NYY        TB    S           NaN       NaN      0   \n",
       "\n",
       "      strikes  game_year     pfx_x     pfx_z  plate_x  plate_z  on_3b  on_2b  \\\n",
       "3431        0       2016 -0.379108  0.370567    0.739    1.442    NaN    NaN   \n",
       "3432        2       2016 -0.295608  0.320400   -0.419    3.273    NaN    NaN   \n",
       "3433        2       2016 -0.668575  0.198567    0.561    0.960    NaN    NaN   \n",
       "3434        1       2016  0.397442 -0.614133   -0.803    2.742    NaN    NaN   \n",
       "3435        0       2016 -0.823050  1.623300   -0.273    2.471    NaN    NaN   \n",
       "\n",
       "      on_1b  outs_when_up  inning inning_topbot    hc_x   hc_y  \\\n",
       "3431    NaN             0       5           Bot     NaN    NaN   \n",
       "3432    NaN             2       2           Bot  130.45  14.58   \n",
       "3433    NaN             2       2           Bot     NaN    NaN   \n",
       "3434    NaN             2       2           Bot     NaN    NaN   \n",
       "3435    NaN             2       2           Bot     NaN    NaN   \n",
       "\n",
       "      tfs_deprecated  tfs_zulu_deprecated  pos2_person_id  umpire  \\\n",
       "3431             NaN                  NaN        571912.0     NaN   \n",
       "3432             NaN                  NaN        571912.0     NaN   \n",
       "3433             NaN                  NaN        571912.0     NaN   \n",
       "3434             NaN                  NaN        571912.0     NaN   \n",
       "3435             NaN                  NaN        571912.0     NaN   \n",
       "\n",
       "              sv_id    vx0      vy0    vz0     ax      ay      az  sz_top  \\\n",
       "3431  160813_144259  6.960 -124.371 -4.756 -2.821  23.634 -30.220    3.93   \n",
       "3432  160813_135833  4.287 -127.452 -0.882 -1.972  24.694 -30.705    4.01   \n",
       "3433  160813_135815  7.491 -126.665 -5.862 -6.393  21.952 -32.121    4.01   \n",
       "3434  160813_135752  1.254 -116.062  0.439  5.184  21.328 -39.866    4.01   \n",
       "3435  160813_135736  5.994 -135.497 -6.736 -9.360  26.782 -13.446    4.01   \n",
       "\n",
       "      sz_bot  hit_distance_sc  launch_speed  launch_angle  effective_speed  \\\n",
       "3431    1.82              NaN           NaN           NaN           84.459   \n",
       "3432    1.82            446.0         108.8        27.410           86.412   \n",
       "3433    1.82              NaN           NaN           NaN           86.368   \n",
       "3434    1.82              9.0          55.8       -24.973           77.723   \n",
       "3435    1.82              NaN           NaN           NaN           92.696   \n",
       "\n",
       "      release_spin_rate  release_extension  game_pk  pos1_person_id  \\\n",
       "3431             1552.0              5.683   448611        542882.0   \n",
       "3432             1947.0              5.691   448611        542882.0   \n",
       "3433             1761.0              5.721   448611        542882.0   \n",
       "3434             2640.0              5.022   448611        542882.0   \n",
       "3435             2271.0              6.068   448611        542882.0   \n",
       "\n",
       "      pos2_person_id.1  pos3_person_id  pos4_person_id  pos5_person_id  \\\n",
       "3431          571912.0        543543.0        523253.0        446334.0   \n",
       "3432          571912.0        543543.0        523253.0        446334.0   \n",
       "3433          571912.0        543543.0        523253.0        446334.0   \n",
       "3434          571912.0        543543.0        523253.0        446334.0   \n",
       "3435          571912.0        543543.0        523253.0        446334.0   \n",
       "\n",
       "      pos6_person_id  pos7_person_id  pos8_person_id  pos9_person_id  \\\n",
       "3431        622110.0        545338.0        595281.0        543484.0   \n",
       "3432        622110.0        545338.0        595281.0        543484.0   \n",
       "3433        622110.0        545338.0        595281.0        543484.0   \n",
       "3434        622110.0        545338.0        595281.0        543484.0   \n",
       "3435        622110.0        545338.0        595281.0        543484.0   \n",
       "\n",
       "      release_pos_y  estimated_ba_using_speedangle  \\\n",
       "3431        54.8144                           0.00   \n",
       "3432        54.8064                           0.98   \n",
       "3433        54.7770                           0.00   \n",
       "3434        55.4756                           0.00   \n",
       "3435        54.4299                           0.00   \n",
       "\n",
       "      estimated_woba_using_speedangle  woba_value  woba_denom  babip_value  \\\n",
       "3431                            0.000         NaN         NaN          NaN   \n",
       "3432                            1.937         2.0         1.0          0.0   \n",
       "3433                            0.000         NaN         NaN          NaN   \n",
       "3434                            0.000         NaN         NaN          NaN   \n",
       "3435                            0.000         NaN         NaN          NaN   \n",
       "\n",
       "      iso_value  launch_speed_angle  at_bat_number  pitch_number  \n",
       "3431        NaN                 NaN             36             1  \n",
       "3432        3.0                 6.0             14             4  \n",
       "3433        NaN                 NaN             14             3  \n",
       "3434        NaN                 1.0             14             2  \n",
       "3435        NaN                 NaN             14             1  "
      ]
     },
     "execution_count": 3,
     "metadata": {},
     "output_type": "execute_result"
    }
   ],
   "source": [
    "# Run this cell to begin\n",
    "# Import the necessary packages\n",
    "import pandas as pd\n",
    "import matplotlib.pyplot as plt\n",
    "import seaborn as sns\n",
    "%matplotlib inline\n",
    "\n",
    "# Load Aaron Judge's Statcast data\n",
    "judge = pd.read_csv('judge.csv')\n",
    "\n",
    "# Load Giancarlo Stanton's Statcast data\n",
    "stanton = pd.read_csv('stanton.csv')\n",
    "\n",
    "# Display all columns (pandas will collapse some columns if we don't set this option)\n",
    "pd.set_option('display.max_columns', None)\n",
    "\n",
    "# Custom Functions\n",
    "def assign_x_coord(row):\n",
    "    \"\"\"\n",
    "    Assigns an x-coordinate to Statcast's strike zone numbers. Zones 11, 12, 13,\n",
    "    and 14 are ignored for plotting simplicity.\n",
    "    \"\"\"\n",
    "    # Left third of strike zone\n",
    "    if row.zone in [1, 4, 7]:\n",
    "        return 1\n",
    "    # Middle third of strike zone\n",
    "    if row.zone in [2, 5, 8]:\n",
    "        return 2\n",
    "    # Right third of strike zone\n",
    "    if row.zone in [3, 6, 9]:\n",
    "        return 3\n",
    "    \n",
    "def assign_y_coord(row):\n",
    "    \"\"\"\n",
    "    Assigns a y-coordinate to Statcast's strike zone numbers. Zones 11, 12, 13,\n",
    "    and 14 are ignored for plotting simplicity.\n",
    "    \"\"\"\n",
    "    # Upper third of strike zone\n",
    "    if row.zone in [1, 2, 3]:\n",
    "        return 3\n",
    "    # Middle third of strike zone\n",
    "    if row.zone in [4, 5, 6]:\n",
    "        return 2\n",
    "    # Lower third of strike zone\n",
    "    if row.zone in [7, 8, 9]:\n",
    "        return 1\n",
    "    \n",
    "# Display the last five rows of the Aaron Judge file\n",
    "judge.tail()"
   ]
  },
  {
   "cell_type": "code",
   "execution_count": 7,
   "id": "291d4271-ee4a-409a-8939-c9600bc3d3f5",
   "metadata": {
    "executionCancelledAt": null,
    "executionTime": null,
    "lastExecutedAt": null,
    "lastExecutedByKernel": null,
    "lastScheduledRunId": null,
    "lastSuccessfullyExecutedCode": null,
    "outputsMetadata": {
     "0": {
      "height": 483,
      "type": "stream"
     }
    }
   },
   "outputs": [
    {
     "name": "stdout",
     "output_type": "stream",
     "text": [
      "Aaron Judge batted ball event totals, 2017:\n",
      "strikeout                    207\n",
      "field_out                    146\n",
      "walk                         116\n",
      "single                        75\n",
      "home_run                      52\n",
      "double                        24\n",
      "grounded_into_double_play     15\n",
      "force_out                     11\n",
      "intent_walk                   11\n",
      "hit_by_pitch                   5\n",
      "sac_fly                        4\n",
      "fielders_choice_out            4\n",
      "field_error                    4\n",
      "triple                         3\n",
      "strikeout_double_play          1\n",
      "Name: events, dtype: int64\n",
      "\n",
      "Giancarlo Stanton batted ball event totals, 2017:\n",
      "field_out                    239\n",
      "strikeout                    161\n",
      "single                        77\n",
      "walk                          72\n",
      "home_run                      59\n",
      "double                        32\n",
      "intent_walk                   13\n",
      "grounded_into_double_play     13\n",
      "force_out                      7\n",
      "hit_by_pitch                   7\n",
      "field_error                    5\n",
      "sac_fly                        3\n",
      "fielders_choice_out            2\n",
      "strikeout_double_play          2\n",
      "pickoff_1b                     1\n",
      "Name: events, dtype: int64\n"
     ]
    },
    {
     "data": {
      "text/plain": [
       "Text(0.5, 1.0, 'Giancarlo Stanton\\nHome Runs, 2015-2017')"
      ]
     },
     "execution_count": 7,
     "metadata": {},
     "output_type": "execute_result"
    },
    {
     "data": {
      "image/png": "[encoded data removed]",
      "text/plain": [
       "<Figure size 640x480 with 2 Axes>"
      ]
     },
     "metadata": {
      "image/png": {
       "height": 473,
       "width": 572
      }
     },
     "output_type": "display_data"
    }
   ],
   "source": [
    "judge_events_2017 = judge.loc[judge['game_year'] == 2017].events.value_counts()\n",
    "print(\"Aaron Judge batted ball event totals, 2017:\")\n",
    "print(judge_events_2017)\n",
    "\n",
    "# All of Giancarlo Stanton's batted ball events in 2017\n",
    "stanton_events_2017 = stanton.loc[stanton['game_year'] == 2017].events.value_counts()\n",
    "print(\"\\nGiancarlo Stanton batted ball event totals, 2017:\")\n",
    "print(stanton_events_2017)\n",
    "\n",
    "# Which player hits home runs slightly lower and slightly harder?\n",
    "\n",
    "# Filter to include home runs only\n",
    "judge_hr = judge.loc[judge['events'] == 'home_run']\n",
    "stanton_hr = stanton.loc[stanton['events'] == 'home_run']\n",
    "\n",
    "# Create a figure with two KDE plots of launch speed vs. launch angle, one for each player's home runs\n",
    "fig1, ax1 = plt.subplots(ncols=2, sharex=True, sharey=True)\n",
    "sns.kdeplot(x=judge_hr.launch_angle, y=judge_hr.launch_speed, cmap=\"Blues\", shade=True, shade_lowest=False, ax=ax1[0]).set_title('Aaron Judge\\nHome Runs, 2015-2017')\n",
    "sns.kdeplot(x=stanton_hr.launch_angle, y=stanton_hr.launch_speed, cmap=\"Blues\", shade=True, shade_lowest=False, ax=ax1[1]).set_title('Giancarlo Stanton\\nHome Runs, 2015-2017')\n",
    "\n",
    "player_hr = \"Stanton\""
   ]
  },
  {
   "cell_type": "code",
   "execution_count": 8,
   "id": "acadbbed-bfc9-4a63-bf32-0711346bebbc",
   "metadata": {
    "executionCancelledAt": null,
    "executionTime": 233,
    "lastExecutedAt": 1733852015218,
    "lastExecutedByKernel": "9749f88d-36f9-4072-9ca3-5aeee3133d90",
    "lastScheduledRunId": null,
    "lastSuccessfullyExecutedCode": "\n# Compare the pitch velocity, or `release_speed`, for both players using box plots. Which player hits their home runs off of faster pitches (has the highest median)?\n\n# Combine the Judge and Stanton home run DataFrames for easy boxplot plotting\njudge_stanton_hr = pd.concat([judge_hr, stanton_hr])\n\n# Create a boxplot that describes the pitch velocity of each player's home runs and save it to a variable\nsns.boxplot(x='player_name', y='release_speed', color='tab:blue', data=judge_stanton_hr).set_title('Home Runs, 2015-2017')\n\nplayer_fast = \"Judge\"\n"
   },
   "outputs": [
    {
     "data": {
      "image/png": "[encoded data removed]",
      "text/plain": [
       "<Figure size 640x480 with 1 Axes>"
      ]
     },
     "metadata": {
      "image/png": {
       "height": 453,
       "width": 562
      }
     },
     "output_type": "display_data"
    }
   ],
   "source": [
    "\n",
    "# Compare the pitch velocity, or `release_speed`, for both players using box plots. Which player hits their home runs off of faster pitches (has the highest median)?\n",
    "\n",
    "# Combine the Judge and Stanton home run DataFrames for easy boxplot plotting\n",
    "judge_stanton_hr = pd.concat([judge_hr, stanton_hr])\n",
    "\n",
    "# Create a boxplot that describes the pitch velocity of each player's home runs and save it to a variable\n",
    "sns.boxplot(x='player_name', y='release_speed', color='tab:blue', data=judge_stanton_hr).set_title('Home Runs, 2015-2017')\n",
    "\n",
    "player_fast = \"Judge\"\n"
   ]
  },
  {
   "cell_type": "code",
   "execution_count": 10,
   "id": "b2563d73-b6fa-45ef-85aa-94eac1b155ac",
   "metadata": {
    "executionCancelledAt": null,
    "executionTime": 217,
    "lastExecutedAt": 1733852187054,
    "lastExecutedByKernel": "9749f88d-36f9-4072-9ca3-5aeee3133d90",
    "lastScheduledRunId": null,
    "lastSuccessfullyExecutedCode": "\n# Construct a 2D histogram for each player that visualizes the home run strike zones, ignoring zones 11, 12, 13, and 14 for simplicity.\n\n# Zones 11, 12, 13, and 14 are to be ignored for plotting simplicity\njudge_strike_hr = judge_hr.copy().loc[judge_hr.zone <= 9]\n\n# Assign Cartesian coordinates to pitches in the strike zone for Judge home runs\njudge_strike_hr['zone_x'] = judge_strike_hr.apply(assign_x_coord, axis=1)\njudge_strike_hr['zone_y'] = judge_strike_hr.apply(assign_y_coord, axis=1)\n\n# Plot Judge's home run zone as a 2D histogram with a colorbar and save the figure to a variable\nplt.hist2d(judge_strike_hr.zone_x, judge_strike_hr.zone_y, bins = 3, cmap='Blues')\nplt.title('Aaron Judge Home Runs on\\n Pitches in the Strike Zone, 2015-2017')\nplt.gca().get_xaxis().set_visible(False)\nplt.gca().get_yaxis().set_visible(False)\ncb = plt.colorbar()\ncb.set_label('Counts in Bin')\n"
   },
   "outputs": [
    {
     "data": {
      "image/png": "[encoded data removed]",
      "text/plain": [
       "<Figure size 640x480 with 2 Axes>"
      ]
     },
     "metadata": {
      "image/png": {
       "height": 438,
       "width": 507
      }
     },
     "output_type": "display_data"
    }
   ],
   "source": [
    "\n",
    "# Construct a 2D histogram for each player that visualizes the home run strike zones, ignoring zones 11, 12, 13, and 14 for simplicity.\n",
    "\n",
    "# Zones 11, 12, 13, and 14 are to be ignored for plotting simplicity\n",
    "judge_strike_hr = judge_hr.copy().loc[judge_hr.zone <= 9]\n",
    "\n",
    "# Assign Cartesian coordinates to pitches in the strike zone for Judge home runs\n",
    "judge_strike_hr['zone_x'] = judge_strike_hr.apply(assign_x_coord, axis=1)\n",
    "judge_strike_hr['zone_y'] = judge_strike_hr.apply(assign_y_coord, axis=1)\n",
    "\n",
    "# Plot Judge's home run zone as a 2D histogram with a colorbar and save the figure to a variable\n",
    "plt.hist2d(judge_strike_hr.zone_x, judge_strike_hr.zone_y, bins = 3, cmap='Blues')\n",
    "plt.title('Aaron Judge Home Runs on\\n Pitches in the Strike Zone, 2015-2017')\n",
    "plt.gca().get_xaxis().set_visible(False)\n",
    "plt.gca().get_yaxis().set_visible(False)\n",
    "cb = plt.colorbar()\n",
    "cb.set_label('Counts in Bin')\n"
   ]
  },
  {
   "cell_type": "code",
   "execution_count": 11,
   "id": "37eade7f-b426-4239-b4fc-a0cd30a07a88",
   "metadata": {
    "executionCancelledAt": null,
    "executionTime": 233,
    "lastExecutedAt": 1733852198421,
    "lastExecutedByKernel": "9749f88d-36f9-4072-9ca3-5aeee3133d90",
    "lastScheduledRunId": null,
    "lastSuccessfullyExecutedCode": "\n# Zones 11, 12, 13, and 14 are to be ignored for plotting simplicity\nstanton_strike_hr = stanton_hr.copy().loc[stanton_hr.zone <= 9]\n\n# Assign Cartesian coordinates to pitches in the strike zone for Stanton home runs\nstanton_strike_hr['zone_x'] = stanton_strike_hr.apply(assign_x_coord, axis=1)\nstanton_strike_hr['zone_y'] = stanton_strike_hr.apply(assign_y_coord, axis=1)\n\n# Plot Stanton's home run zone as a 2D histogram with a colorbar\nplt.hist2d(stanton_strike_hr.zone_x, stanton_strike_hr.zone_y, bins = 3, cmap='Blues')\nplt.title('Giancarlo Stanton Home Runs on\\n Pitches in the Strike Zone, 2015-2017')\nplt.gca().get_xaxis().set_visible(False)\nplt.gca().get_yaxis().set_visible(False)\ncb = plt.colorbar()\ncb.set_label('Counts in Bin')"
   },
   "outputs": [
    {
     "data": {
      "image/png": "[encoded data removed]",
      "text/plain": [
       "<Figure size 640x480 with 2 Axes>"
      ]
     },
     "metadata": {
      "image/png": {
       "height": 434,
       "width": 522
      }
     },
     "output_type": "display_data"
    }
   ],
   "source": [
    "\n",
    "# Zones 11, 12, 13, and 14 are to be ignored for plotting simplicity\n",
    "stanton_strike_hr = stanton_hr.copy().loc[stanton_hr.zone <= 9]\n",
    "\n",
    "# Assign Cartesian coordinates to pitches in the strike zone for Stanton home runs\n",
    "stanton_strike_hr['zone_x'] = stanton_strike_hr.apply(assign_x_coord, axis=1)\n",
    "stanton_strike_hr['zone_y'] = stanton_strike_hr.apply(assign_y_coord, axis=1)\n",
    "\n",
    "# Plot Stanton's home run zone as a 2D histogram with a colorbar\n",
    "plt.hist2d(stanton_strike_hr.zone_x, stanton_strike_hr.zone_y, bins = 3, cmap='Blues')\n",
    "plt.title('Giancarlo Stanton Home Runs on\\n Pitches in the Strike Zone, 2015-2017')\n",
    "plt.gca().get_xaxis().set_visible(False)\n",
    "plt.gca().get_yaxis().set_visible(False)\n",
    "cb = plt.colorbar()\n",
    "cb.set_label('Counts in Bin')"
   ]
  }
 ],
 "metadata": {
  "editor": "DataCamp Workspace",
  "kernelspec": {
   "display_name": "Python 3 (ipykernel)",
   "language": "python",
   "name": "python3"
  },
  "language_info": {
   "codemirror_mode": {
    "name": "ipython",
    "version": 3
   },
   "file_extension": ".py",
   "mimetype": "text/x-python",
   "name": "python",
   "nbconvert_exporter": "python",
   "pygments_lexer": "ipython3",
   "version": "3.12.4"
  }
 },
 "nbformat": 4,
 "nbformat_minor": 5
}
